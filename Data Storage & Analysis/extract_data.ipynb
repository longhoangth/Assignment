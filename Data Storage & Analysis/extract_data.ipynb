{
 "cells": [
  {
   "cell_type": "code",
   "execution_count": 19,
   "metadata": {},
   "outputs": [],
   "source": [
    "import datetime, warnings, scipy \n",
    "import pandas as pd\n",
    "import numpy as np\n",
    "import seaborn as sns\n",
    "import matplotlib as mpl\n",
    "import matplotlib.pyplot as plt\n",
    "\n",
    "plt.rcParams[\"patch.force_edgecolor\"] = True\n",
    "plt.style.use('fivethirtyeight')\n",
    "mpl.rc('patch', edgecolor='dimgray', linewidth=1)\n",
    "\n",
    "from IPython.core.interactiveshell import InteractiveShell\n",
    "\n",
    "InteractiveShell.ast_node_interactivity = \"last_expr\"\n",
    "pd.options.display.max_columns = 50\n",
    "%matplotlib inline\n",
    "warnings.filterwarnings(\"ignore\")\n",
    "import math\n",
    "from keras.models import Sequential\n",
    "from keras.layers import Dense\n",
    "from keras.layers import LSTM\n",
    "from sklearn.preprocessing import MinMaxScaler, StandardScaler\n",
    "from sklearn.metrics import mean_squared_error"
   ]
  },
  {
   "cell_type": "code",
   "execution_count": 21,
   "metadata": {},
   "outputs": [
    {
     "name": "stdout",
     "output_type": "stream",
     "text": [
      "['Ahmedabad' 'Aizawl' 'Amaravati' 'Amritsar' 'Bengaluru' 'Bhopal'\n",
      " 'Brajrajnagar' 'Chandigarh' 'Chennai' 'Coimbatore' 'Delhi' 'Ernakulam'\n",
      " 'Gurugram' 'Guwahati' 'Hyderabad' 'Jaipur' 'Jorapokhar' 'Kochi' 'Kolkata'\n",
      " 'Lucknow' 'Mumbai' 'Patna' 'Shillong' 'Talcher' 'Thiruvananthapuram'\n",
      " 'Visakhapatnam']\n",
      "['AP001' 'AP005' 'AS001' 'BR005' 'BR006' 'BR007' 'BR008' 'BR009' 'BR010'\n",
      " 'CH001' 'DL001' 'DL002' 'DL003' 'DL004' 'DL005' 'DL006' 'DL007' 'DL008'\n",
      " 'DL009' 'DL010' 'DL011' 'DL012' 'DL013' 'DL014' 'DL015' 'DL016' 'DL017'\n",
      " 'DL018' 'DL019' 'DL020' 'DL021' 'DL022' 'DL023' 'DL024' 'DL025' 'DL026'\n",
      " 'DL027' 'DL028' 'DL029' 'DL030' 'DL031' 'DL032' 'DL033' 'DL034' 'DL035'\n",
      " 'DL036' 'DL037' 'DL038' 'GJ001' 'HR011' 'HR012' 'HR013' 'HR014' 'JH001'\n",
      " 'KA002' 'KA003' 'KA004' 'KA005' 'KA006' 'KA007' 'KA008' 'KA009' 'KA010'\n",
      " 'KA011' 'KL002' 'KL004' 'KL007' 'KL008' 'MH005' 'MH006' 'MH007' 'MH008'\n",
      " 'MH009' 'MH010' 'MH011' 'MH012' 'MH013' 'MH014' 'ML001' 'MP001' 'MZ001'\n",
      " 'OD001' 'OD002' 'PB001' 'RJ004' 'RJ005' 'RJ006' 'TG001' 'TG002' 'TG003'\n",
      " 'TG004' 'TG005' 'TG006' 'TN001' 'TN002' 'TN003' 'TN004' 'TN005' 'UP012'\n",
      " 'UP013' 'UP014' 'UP015' 'UP016' 'WB007' 'WB008' 'WB009' 'WB010' 'WB011'\n",
      " 'WB012' 'WB013']\n"
     ]
    }
   ],
   "source": [
    "city_day = pd.read_csv(\"india-air-quality-2015-2020/city_day.csv\")\n",
    "city_hour = pd.read_csv(\"india-air-quality-2015-2020/city_hour.csv\")\n",
    "station_hour = pd.read_csv(\"india-air-quality-2015-2020/station_hour.csv\")\n",
    "station_day = pd.read_csv(\"india-air-quality-2015-2020/station_day.csv\")\n",
    "\n",
    "print(city_day['City'].unique())\n",
    "print(station_day['StationId'].unique())"
   ]
  },
  {
   "cell_type": "code",
   "execution_count": null,
   "metadata": {},
   "outputs": [],
   "source": [
    "f_day = open(\"overall-missing-station-day.txt\", \"w\")\n",
    "f_hour = open(\"overall-missing-station-hour.txt\", \"w\")\n",
    "\n",
    "f_city_hour = open('overall-missing-city-hour.txt', 'w')\n",
    "\n",
    "num = 0\n",
    "for city in city_hour[\"City\"].unique():\n",
    "    df = city_hour[city_hour[\"City\"] ==  city]\n",
    "    f_city_hour.write(\"City: {}\\n\".format(city))\n",
    "    f_city_hour.write(\"Length: {}\\n\".format(len(df)))\n",
    "    overall = 0\n",
    "    missing = df.isnull().sum() / len(df) * 100\n",
    "    f_city_hour.write(missing.to_string())\n",
    "    f_city_hour.write(\"\\n\")\n",
    "    for i in missing:\n",
    "        overall += i\n",
    "    overall = round(overall / missing.shape[0], 3)\n",
    "    f_city_hour.write(\"Missing Overall: {}%\\n\".format(overall))\n",
    "    f_city_hour.write(\"----------------------------\\n\")\n",
    "\n",
    "\n",
    "for stationid in station_day[\"StationId\"].unique():\n",
    "    df = station_day[station_day[\"StationId\"] == stationid]\n",
    "    f_hour.write(\"Station: \" + stationid)\n",
    "    f_hour.write(\"\\n\")\n",
    "    missing = df.isnull().sum() / len(df) * 100\n",
    "    f_hour.write(missing.to_string())\n",
    "    f_hour.write(\"\\n\")\n",
    "    overall = 0\n",
    "    for i in missing:\n",
    "        overall += i\n",
    "    overall = round(overall / missing.shape[0], 2)\n",
    "    f_hour.write(\"Overall = \" + str(overall) + \"%\\n\")\n",
    "    f_hour.write(\"----------------------------\\n\")\n",
    "\n",
    "\n",
    "f_day.close()\n",
    "f_hour.close()"
   ]
  },
  {
   "cell_type": "code",
   "execution_count": null,
   "metadata": {},
   "outputs": [],
   "source": [
    "overall_city_day = {}\n",
    "overall_station_day = {}\n",
    "\n",
    "num = 0\n",
    "for city in city_day[\"City\"].unique():\n",
    "    df = city_day[city_day[\"City\"] ==  city]\n",
    "    overall = 0\n",
    "    missing = df.isnull().sum() / len(df) * 100\n",
    "    for i in missing:\n",
    "        overall += i\n",
    "    overall = round(overall / missing.shape[0], 3)\n",
    "    overall_city_day['{}'.format(num)] = overall\n",
    "    num += 1\n",
    "\n",
    "\n",
    "for stationid in station_day[\"StationId\"].unique():\n",
    "    df = station_day[station_day[\"StationId\"] == stationid]\n",
    "    overall = 0\n",
    "    missing = df.isnull().sum() / len(df) * 100\n",
    "    for i in missing:\n",
    "        overall += i\n",
    "    overall = round(overall / missing.shape[0], 3)\n",
    "    overall_station_day[stationid] = overall"
   ]
  },
  {
   "cell_type": "code",
   "execution_count": null,
   "metadata": {},
   "outputs": [],
   "source": [
    "cities = city_day['City'].unique()\n",
    "cities = cities.flatten()"
   ]
  },
  {
   "cell_type": "code",
   "execution_count": null,
   "metadata": {},
   "outputs": [],
   "source": [
    "keys = np.array(list(overall_city_day.keys()))\n",
    "values = overall_city_day.values()\n",
    "\n",
    "plt.bar(keys, values)\n",
    "plt.ylabel(\"%\")\n",
    "plt.xticks(keys, cities, rotation=90)\n",
    "plt.title(\"City day missing percentage\")\n",
    "plt.show()"
   ]
  },
  {
   "cell_type": "code",
   "execution_count": null,
   "metadata": {},
   "outputs": [],
   "source": [
    "city_delhi = city_hour[city_hour['City'] == 'Delhi']\n",
    "city_delhi"
   ]
  },
  {
   "cell_type": "code",
   "execution_count": null,
   "metadata": {},
   "outputs": [],
   "source": [
    "city_chandigarh = city_hour[city_hour['City'] == 'Chandigarh']\n",
    "city_chandigarh"
   ]
  },
  {
   "cell_type": "code",
   "execution_count": null,
   "metadata": {},
   "outputs": [],
   "source": [
    "# city_chandigarh = city_chandigarh.drop('City', axis=1)\n",
    "city_chandigarh.to_csv('india-air-quality-2015-2020/Chandigarh-hour.csv', index=False)"
   ]
  },
  {
   "cell_type": "code",
   "execution_count": null,
   "metadata": {},
   "outputs": [],
   "source": [
    "city_delhi.to_csv('india-air-quality-2015-2020/Delhi-hour.csv', index=False)"
   ]
  },
  {
   "cell_type": "code",
   "execution_count": null,
   "metadata": {},
   "outputs": [],
   "source": [
    "station_day_extract = station_day[station_day['StationId'] == 'CH001']\n",
    "station_hour_extract = station_hour[station_hour['StationId'] == 'CH001']"
   ]
  },
  {
   "cell_type": "code",
   "execution_count": null,
   "metadata": {},
   "outputs": [],
   "source": [
    "station_day_extract.drop('StationId', axis=1)\n",
    "station_hour_extract.drop('StationId', axis=1)"
   ]
  },
  {
   "cell_type": "code",
   "execution_count": null,
   "metadata": {},
   "outputs": [],
   "source": [
    "df_chandigarh = city_day[city_day['City'] == 'Chandigarh']\n",
    "df_chandigarh "
   ]
  },
  {
   "cell_type": "code",
   "execution_count": null,
   "metadata": {},
   "outputs": [],
   "source": [
    "df_chandigarh_hour = city_hour[city_hour['City'] == 'Chandigarh']\n",
    "df_chandigarh_hour"
   ]
  },
  {
   "cell_type": "code",
   "execution_count": null,
   "metadata": {},
   "outputs": [],
   "source": [
    "# df_chandigarh = df_chandigarh.drop('City', axis=1)\n",
    "df_chandigarh.to_csv('india-air-quality-2015-2020/Chandigarh-day.csv', index=False)\n",
    "df_chandigarh"
   ]
  },
  {
   "cell_type": "code",
   "execution_count": null,
   "metadata": {},
   "outputs": [],
   "source": [
    "station_day_extract.to_csv('india-air-quality-2015-2020/station-CH001-day.csv', index=False)\n",
    "station_hour_extract.to_csv('india-air-quality-2015-2020/station-CH001-hour.csv', index=False)"
   ]
  },
  {
   "cell_type": "code",
   "execution_count": null,
   "metadata": {},
   "outputs": [],
   "source": [
    "df_chandigarh_hour = df_chandigarh_hour.drop('City', axis=1)\n",
    "df_chandigarh_hour.to_csv('india-air-quality-2015-2020/Chandigarh-hour.csv', index=False)\n",
    "df_chandigarh_hour"
   ]
  },
  {
   "cell_type": "code",
   "execution_count": null,
   "metadata": {},
   "outputs": [],
   "source": [
    "aqi = df_chandigarh[['AQI', 'AQI_Bucket']].copy()\n",
    "df_chandigarh.drop(columns=['AQI', 'AQI_Bucket'])\n",
    "aqi.to_csv('india-air-quality-2015-2020/aqi.csv', index=False)"
   ]
  }
 ],
 "metadata": {
  "kernelspec": {
   "display_name": "learnml",
   "language": "python",
   "name": "python3"
  },
  "language_info": {
   "codemirror_mode": {
    "name": "ipython",
    "version": 3
   },
   "file_extension": ".py",
   "mimetype": "text/x-python",
   "name": "python",
   "nbconvert_exporter": "python",
   "pygments_lexer": "ipython3",
   "version": "3.11.5"
  }
 },
 "nbformat": 4,
 "nbformat_minor": 2
}
